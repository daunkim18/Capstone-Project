{
 "cells": [
  {
   "cell_type": "markdown",
   "id": "c0f67ba9",
   "metadata": {},
   "source": [
    "# YOLOv11 Model Training and Inference\n",
    "This notebook demonstrates how to use the latest YOLOv11 model from Ultralytics for object detection.\n",
    "Make sure your dataset is in YOLO format (`images/train`, `images/val`, with corresponding `labels/`)."
   ]
  },
  {
   "cell_type": "code",
   "execution_count": null,
   "id": "92a9b094",
   "metadata": {},
   "outputs": [],
   "source": [
    "# Step 1: Install the latest Ultralytics version\n",
    "!pip install ultralytics --upgrade"
   ]
  },
  {
   "cell_type": "code",
   "execution_count": null,
   "id": "3c19d66b",
   "metadata": {},
   "outputs": [],
   "source": [
    "# Step 2: Import YOLO and check version\n",
    "from ultralytics import YOLO\n",
    "import ultralytics\n",
    "print('Ultralytics version:', ultralytics.__version__)"
   ]
  },
  {
   "cell_type": "code",
   "execution_count": null,
   "id": "4d762990",
   "metadata": {},
   "outputs": [],
   "source": [
    "# Step 3: Load YOLOv11 model (use `yolo11s.pt`, `yolo11m.pt`, etc. depending on desired size)\n",
    "model = YOLO('yolo11s.pt')"
   ]
  },
  {
   "cell_type": "code",
   "execution_count": null,
   "id": "129a0f0a",
   "metadata": {},
   "outputs": [],
   "source": [
    "# Step 4: Train the model on your dataset\n",
    "# Ensure your data.yaml is correctly configured\n",
    "model.train(data='path/to/data.yaml', epochs=50, imgsz=640, batch=16)"
   ]
  },
  {
   "cell_type": "code",
   "execution_count": null,
   "id": "b89cac2e",
   "metadata": {},
   "outputs": [],
   "source": [
    "# Step 5: Validate the model on the validation set\n",
    "metrics = model.val()\n",
    "print(metrics)"
   ]
  },
  {
   "cell_type": "code",
   "execution_count": null,
   "id": "d1d16095",
   "metadata": {},
   "outputs": [],
   "source": [
    "# Step 6: Run inference on an image\n",
    "results = model.predict(source='path/to/image.jpg', save=True)\n",
    "results[0].show()"
   ]
  }
 ],
 "metadata": {},
 "nbformat": 4,
 "nbformat_minor": 5
}
