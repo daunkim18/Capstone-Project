{
 "cells": [
  {
   "cell_type": "code",
   "execution_count": 1,
   "metadata": {},
   "outputs": [
    {
     "ename": "FileNotFoundError",
     "evalue": "[Errno 2] No such file or directory: '/Users/sravanireddypatlolla/Documents/GitHub/Capstone-Project/milestone2/../Resources/Dental_Images/Dental_Images/'",
     "output_type": "error",
     "traceback": [
      "\u001b[0;31m---------------------------------------------------------------------------\u001b[0m",
      "\u001b[0;31mFileNotFoundError\u001b[0m                         Traceback (most recent call last)",
      "Cell \u001b[0;32mIn[1], line 40\u001b[0m\n\u001b[1;32m     36\u001b[0m     \u001b[38;5;28;01mreturn\u001b[39;00m results\n\u001b[1;32m     39\u001b[0m \u001b[38;5;66;03m# Print results\u001b[39;00m\n\u001b[0;32m---> 40\u001b[0m image_results \u001b[38;5;241m=\u001b[39m \u001b[43mscan_images\u001b[49m\u001b[43m(\u001b[49m\u001b[43mfolder_path\u001b[49m\u001b[43m)\u001b[49m\n\u001b[1;32m     41\u001b[0m i \u001b[38;5;241m=\u001b[39m \u001b[38;5;241m1\u001b[39m\n\u001b[1;32m     42\u001b[0m \u001b[38;5;28;01mfor\u001b[39;00m result \u001b[38;5;129;01min\u001b[39;00m image_results:\n",
      "Cell \u001b[0;32mIn[1], line 20\u001b[0m, in \u001b[0;36mscan_images\u001b[0;34m(folder_path)\u001b[0m\n\u001b[1;32m     18\u001b[0m \u001b[38;5;28;01mdef\u001b[39;00m \u001b[38;5;21mscan_images\u001b[39m(folder_path):\n\u001b[1;32m     19\u001b[0m     results \u001b[38;5;241m=\u001b[39m []\n\u001b[0;32m---> 20\u001b[0m     \u001b[38;5;28;01mfor\u001b[39;00m filename \u001b[38;5;129;01min\u001b[39;00m \u001b[43mos\u001b[49m\u001b[38;5;241;43m.\u001b[39;49m\u001b[43mlistdir\u001b[49m\u001b[43m(\u001b[49m\u001b[43mfolder_path\u001b[49m\u001b[43m)\u001b[49m:\n\u001b[1;32m     21\u001b[0m         \u001b[38;5;28mprint\u001b[39m(filename) \u001b[38;5;66;03m# printing filename\u001b[39;00m\n\u001b[1;32m     23\u001b[0m         \u001b[38;5;28;01mif\u001b[39;00m filename\u001b[38;5;241m.\u001b[39mendswith((\u001b[38;5;124m'\u001b[39m\u001b[38;5;124m.png\u001b[39m\u001b[38;5;124m'\u001b[39m, \u001b[38;5;124m'\u001b[39m\u001b[38;5;124m.jpg\u001b[39m\u001b[38;5;124m'\u001b[39m, \u001b[38;5;124m'\u001b[39m\u001b[38;5;124m.jpeg\u001b[39m\u001b[38;5;124m'\u001b[39m, \u001b[38;5;124m'\u001b[39m\u001b[38;5;124m.bmp\u001b[39m\u001b[38;5;124m'\u001b[39m, \u001b[38;5;124m'\u001b[39m\u001b[38;5;124m.tiff\u001b[39m\u001b[38;5;124m'\u001b[39m)):\n",
      "\u001b[0;31mFileNotFoundError\u001b[0m: [Errno 2] No such file or directory: '/Users/sravanireddypatlolla/Documents/GitHub/Capstone-Project/milestone2/../Resources/Dental_Images/Dental_Images/'"
     ]
    }
   ],
   "source": [
    "import cv2\n",
    "import os\n",
    "import numpy as np\n",
    "\n",
    "# Folder containing extracted images\n",
    "folder_path = folder_path = os.path.join(os.getcwd(), \"../Resources/Dental_Images/Dental_Images/\")\n",
    "\n",
    "\n",
    "def calculate_clarity(image):\n",
    "    try:  #convert to gray scale and apply laplacian operator to detect the edges\n",
    "        gray = cv2.cvtColor(image, cv2.COLOR_BGR2GRAY)\n",
    "        laplacian_var = cv2.Laplacian(gray, cv2.CV_64F).var()\n",
    "        return laplacian_var\n",
    "    except Exception as e:\n",
    "        print(f\"Error calculating clarity: {e}\")\n",
    "        return 0  \n",
    "\n",
    "def scan_images(folder_path):\n",
    "    results = []\n",
    "    for filename in os.listdir(folder_path):\n",
    "        print(filename) # printing filename\n",
    "        \n",
    "        if filename.endswith(('.png', '.jpg', '.jpeg', '.bmp', '.tiff')):\n",
    "            image_path = os.path.join(folder_path, filename)\n",
    "            image = cv2.imread(image_path)\n",
    "            if image is not None:\n",
    "                # print(f\"Failed to Load the Images in : {image_path}\")\n",
    "                clarity = calculate_clarity(image)\n",
    "                height, width,_= image.shape\n",
    "                results.append({\n",
    "                    'filename': filename,\n",
    "                    'clarity': clarity,\n",
    "                    'resolution': (width, height),\n",
    "                    'path': image_path\n",
    "                })\n",
    "    return results\n",
    "\n",
    "\n",
    "# Print results\n",
    "image_results = scan_images(folder_path)\n",
    "i = 1\n",
    "for result in image_results:\n",
    "    print(f\"Sl.No {i}, Image: {result['filename']}, Clarity: {result['clarity']:.2f}, Resolution: {result['resolution']}\")\n",
    "    i=i+1"
   ]
  },
  {
   "cell_type": "code",
   "execution_count": 2,
   "metadata": {},
   "outputs": [
    {
     "ename": "NameError",
     "evalue": "name 'image_results' is not defined",
     "output_type": "error",
     "traceback": [
      "\u001b[0;31m---------------------------------------------------------------------------\u001b[0m",
      "\u001b[0;31mNameError\u001b[0m                                 Traceback (most recent call last)",
      "Cell \u001b[0;32mIn[2], line 4\u001b[0m\n\u001b[1;32m      2\u001b[0m \u001b[38;5;66;03m# extract the clarity values from the results\u001b[39;00m\n\u001b[1;32m      3\u001b[0m clarity_values\u001b[38;5;241m=\u001b[39m[]\n\u001b[0;32m----> 4\u001b[0m \u001b[38;5;28;01mfor\u001b[39;00m img \u001b[38;5;129;01min\u001b[39;00m \u001b[43mimage_results\u001b[49m:\n\u001b[1;32m      5\u001b[0m     clarity_values\u001b[38;5;241m.\u001b[39mappend(img[\u001b[38;5;124m'\u001b[39m\u001b[38;5;124mclarity\u001b[39m\u001b[38;5;124m'\u001b[39m])\n\u001b[1;32m      7\u001b[0m min_clarity \u001b[38;5;241m=\u001b[39m np\u001b[38;5;241m.\u001b[39mmin(clarity_values)\n",
      "\u001b[0;31mNameError\u001b[0m: name 'image_results' is not defined"
     ]
    }
   ],
   "source": [
    "import numpy as np\n",
    "# extract the clarity values from the results\n",
    "clarity_values=[]\n",
    "for img in image_results:\n",
    "    clarity_values.append(img['clarity'])\n",
    "    \n",
    "min_clarity = np.min(clarity_values)\n",
    "max_clarity = np.max(clarity_values)\n",
    "med_clarity = np.median(clarity_values)\n",
    "\n",
    "print(f\"Minimum Clarity: {min_clarity:.2f}\")\n",
    "print(f\"Maximum Clarity: {max_clarity:.2f}\")\n",
    "print(f\"Median Clarity: {med_clarity:.2f}\")\n",
    "\n"
   ]
  },
  {
   "cell_type": "code",
   "execution_count": 3,
   "metadata": {},
   "outputs": [
    {
     "ename": "NameError",
     "evalue": "name 'colors' is not defined",
     "output_type": "error",
     "traceback": [
      "\u001b[0;31m---------------------------------------------------------------------------\u001b[0m",
      "\u001b[0;31mNameError\u001b[0m                                 Traceback (most recent call last)",
      "Cell \u001b[0;32mIn[3], line 24\u001b[0m\n\u001b[1;32m     20\u001b[0m counts \u001b[38;5;241m=\u001b[39m [\u001b[38;5;28mlen\u001b[39m(blurry), \u001b[38;5;28mlen\u001b[39m(slightly_blurry), \u001b[38;5;28mlen\u001b[39m(acceptable_sharpness), \u001b[38;5;28mlen\u001b[39m(very_sharp)]\n\u001b[1;32m     23\u001b[0m plt\u001b[38;5;241m.\u001b[39mfigure(figsize\u001b[38;5;241m=\u001b[39m(\u001b[38;5;241m8\u001b[39m, \u001b[38;5;241m6\u001b[39m))\n\u001b[0;32m---> 24\u001b[0m plt\u001b[38;5;241m.\u001b[39mbar(categories, counts, color\u001b[38;5;241m=\u001b[39m\u001b[43mcolors\u001b[49m)\n\u001b[1;32m     25\u001b[0m \u001b[38;5;66;03m# plt.bar(color=['red', 'orange', 'blue', 'green'])\u001b[39;00m\n\u001b[1;32m     26\u001b[0m plt\u001b[38;5;241m.\u001b[39mxlabel(\u001b[38;5;124m\"\u001b[39m\u001b[38;5;124mImage Clarity Categories\u001b[39m\u001b[38;5;124m\"\u001b[39m)\n",
      "\u001b[0;31mNameError\u001b[0m: name 'colors' is not defined"
     ]
    },
    {
     "data": {
      "text/plain": [
       "<Figure size 800x600 with 0 Axes>"
      ]
     },
     "metadata": {},
     "output_type": "display_data"
    }
   ],
   "source": [
    "import matplotlib.pyplot as plt\n",
    "\n",
    "blurry = []\n",
    "slightly_blurry = []\n",
    "acceptable_sharpness = []\n",
    "very_sharp = []\n",
    "\n",
    "for img in clarity_values:\n",
    "    if img < 50:\n",
    "        blurry.append(img)\n",
    "    elif 50 <= img < 100:\n",
    "        slightly_blurry.append(img)\n",
    "    elif 100 <= img < 150:\n",
    "        acceptable_sharpness.append(img)\n",
    "    else:\n",
    "        very_sharp.append(img)\n",
    "    \n",
    "    \n",
    "categories = [\"Blurry\", \"Slightly Blurry\", \"Acceptable Sharpness\", \"Very Sharp\"]\n",
    "counts = [len(blurry), len(slightly_blurry), len(acceptable_sharpness), len(very_sharp)]\n",
    "\n",
    "        \n",
    "plt.figure(figsize=(8, 6))\n",
    "plt.bar(categories, counts, color=colors)\n",
    "# plt.bar(color=['red', 'orange', 'blue', 'green'])\n",
    "plt.xlabel(\"Image Clarity Categories\")\n",
    "plt.ylabel(\"Number of Images\")\n",
    "plt.title(\"Distribution of Image Clarity\")\n",
    "plt.show()"
   ]
  },
  {
   "cell_type": "code",
   "execution_count": 4,
   "metadata": {},
   "outputs": [
    {
     "data": {
      "image/png": "[encoded data removed]",
      "text/plain": [
       "<Figure size 800x600 with 1 Axes>"
      ]
     },
     "metadata": {},
     "output_type": "display_data"
    }
   ],
   "source": [
    "plt.figure(figsize=(8, 6))\n",
    "x_values = [1] * len(blurry) + [2] * len(slightly_blurry) + [3] * len(acceptable_sharpness) + [4] * len(very_sharp)\n",
    "y_values = blurry + slightly_blurry + acceptable_sharpness + very_sharp\n",
    "\n",
    "# Create the scatter plot\n",
    "plt.scatter(x_values, y_values)\n",
    "\n",
    "# Add labels and a title\n",
    "plt.xticks([1, 2, 3, 4], ['Blurry', 'Slightly Blurry', 'Acceptable Sharpness', 'Very Sharp'])\n",
    "plt.xlabel(\"Image Clarity Categories\")\n",
    "plt.ylabel(\"Clarity Values\")\n",
    "plt.title(\"Scatter Plot of Image Clarity\")\n",
    "\n",
    "# Show the plot\n",
    "plt.show()"
   ]
  },
  {
   "cell_type": "code",
   "execution_count": 5,
   "metadata": {},
   "outputs": [
    {
     "ename": "FileNotFoundError",
     "evalue": "[Errno 2] No such file or directory: '/Users/sravanireddypatlolla/Documents/GitHub/Capstone-Project/milestone2/../Resources/Dental_Images/Dental_Images/'",
     "output_type": "error",
     "traceback": [
      "\u001b[0;31m---------------------------------------------------------------------------\u001b[0m",
      "\u001b[0;31mFileNotFoundError\u001b[0m                         Traceback (most recent call last)",
      "Cell \u001b[0;32mIn[5], line 19\u001b[0m\n\u001b[1;32m     16\u001b[0m val_num \u001b[38;5;241m=\u001b[39m \u001b[38;5;28mint\u001b[39m(\u001b[38;5;241m0.2\u001b[39m \u001b[38;5;241m*\u001b[39m num_images)    \n\u001b[1;32m     17\u001b[0m test_num \u001b[38;5;241m=\u001b[39m num_images \u001b[38;5;241m-\u001b[39m train_num \u001b[38;5;241m-\u001b[39m val_num  \n\u001b[0;32m---> 19\u001b[0m images \u001b[38;5;241m=\u001b[39m \u001b[43mos\u001b[49m\u001b[38;5;241;43m.\u001b[39;49m\u001b[43mlistdir\u001b[49m\u001b[43m(\u001b[49m\u001b[43mfolder_path\u001b[49m\u001b[43m)\u001b[49m\n\u001b[1;32m     20\u001b[0m images\u001b[38;5;241m.\u001b[39msort()\n\u001b[1;32m     21\u001b[0m \u001b[38;5;66;03m# Split the images into train, validation, and test sets\u001b[39;00m\n",
      "\u001b[0;31mFileNotFoundError\u001b[0m: [Errno 2] No such file or directory: '/Users/sravanireddypatlolla/Documents/GitHub/Capstone-Project/milestone2/../Resources/Dental_Images/Dental_Images/'"
     ]
    }
   ],
   "source": [
    "import os\n",
    "# Craeting the train, validation and test folders\n",
    "\n",
    "folder_path =  os.path.join(os.getcwd(), \"../Resources/Dental_Images/Dental_Images/\") \n",
    "train_image_path = os.path.join(os.getcwd(), \"../Resources/train_images/\")  \n",
    "validation_images_path= os.path.join(os.getcwd(), \"../Resources/validation_images/\")     \n",
    "test_images_path = os.path.join(os.getcwd(), \"../Resources/test_images/\") \n",
    "\n",
    "os.makedirs (train_image_path, exist_ok = True)\n",
    "os.makedirs (validation_images_path, exist_ok = True)\n",
    "os.makedirs (test_images_path, exist_ok = True)\n",
    "\n",
    "\n",
    "num_images = len(folder_path)\n",
    "train_num = int(0.7 * num_images)  \n",
    "val_num = int(0.2 * num_images)    \n",
    "test_num = num_images - train_num - val_num  \n",
    "\n",
    "images = os.listdir(folder_path)\n",
    "images.sort()\n",
    "# Split the images into train, validation, and test sets\n",
    "train_images = images[:train_num]\n",
    "validation_images = images[train_num:train_num + val_num]\n",
    "sum = train_num+val_num\n",
    "test_images = images[sum:]\n",
    "\n",
    "for image in validation_images:\n",
    "    image_str = str(image)  # Ensure image is a string\n",
    "    source = folder_path+image_str\n",
    "    print(source)\n",
    "    #validation_images_str=str(validation_images)\n",
    "    destination = validation_images_path+\"/\"+ image_str\n",
    "    #print(destination)\n",
    "    os.rename(source, destination)\n",
    "\n",
    "for image in train_images:\n",
    "    image_str = str(image)  # Ensure image is a string\n",
    "    source = folder_path+image_str\n",
    "    destination = train_image_path + image_str\n",
    "    os.rename(source, destination)\n",
    "    \n",
    "for image in test_images:\n",
    "    image_str = str(image)  # Ensure image is a string\n",
    "    source = folder_path+image_str\n",
    "    destination = test_images_path + image_str\n",
    "    #print(destination)\n",
    "    os.rename(source, destination)\n"
   ]
  },
  {
   "cell_type": "code",
   "execution_count": 6,
   "metadata": {},
   "outputs": [],
   "source": [
    "import os\n",
    "annotaion_path = \"../milestone2/stratified_sampling/output_images/train/\"\n",
    "os.makedirs(annotaion_path, exist_ok=True)\n",
    "\n",
    "labeling_path = \"..//milestone2/stratified_sampling/output_images/labelling\"\n",
    "os.makedirs(labeling_path, exist_ok=True)"
   ]
  },
  {
   "cell_type": "code",
   "execution_count": 6,
   "metadata": {},
   "outputs": [
    {
     "ename": "SyntaxError",
     "evalue": "invalid syntax (1521218647.py, line 1)",
     "output_type": "error",
     "traceback": [
      "\u001b[0;36m  Cell \u001b[0;32mIn[6], line 1\u001b[0;36m\u001b[0m\n\u001b[0;31m    pip install labelimg\u001b[0m\n\u001b[0m        ^\u001b[0m\n\u001b[0;31mSyntaxError\u001b[0m\u001b[0;31m:\u001b[0m invalid syntax\n"
     ]
    }
   ],
   "source": [
    "# pip install labelImg\n",
    "\n",
    "import os\n",
    "import subprocess\n",
    "\n",
    "image_folder = \"../milestone2/stratified_sampling/output_images/train/\"\n",
    "annotaion_folder = \"../milestone2/stratified_sampling/output_images/train/\"\n",
    "\n",
    "os.makedirs(annotaion_folder, exist_ok=True)\n",
    "subprocess.run([\"labelImg\", image_folder])\n"
   ]
  },
  {
   "cell_type": "code",
   "execution_count": null,
   "metadata": {},
   "outputs": [],
   "source": []
  }
 ],
 "metadata": {
  "kernelspec": {
   "display_name": "Python 3",
   "language": "python",
   "name": "python3"
  },
  "language_info": {
   "codemirror_mode": {
    "name": "ipython",
    "version": 3
   },
   "file_extension": ".py",
   "mimetype": "text/x-python",
   "name": "python",
   "nbconvert_exporter": "python",
   "pygments_lexer": "ipython3",
   "version": "3.9.6"
  }
 },
 "nbformat": 4,
 "nbformat_minor": 2
}
