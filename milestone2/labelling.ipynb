{
 "cells": [
  {
   "cell_type": "code",
   "execution_count": 1,
   "metadata": {},
   "outputs": [
    {
     "name": "stdout",
     "output_type": "stream",
     "text": [
      "Defaulting to user installation because normal site-packages is not writeable\n",
      "Requirement already satisfied: labelimg in /Users/sravanireddypatlolla/Library/Python/3.9/lib/python/site-packages (1.8.6)\n",
      "Requirement already satisfied: pyqt5 in /Users/sravanireddypatlolla/Library/Python/3.9/lib/python/site-packages (from labelimg) (5.15.11)\n",
      "Requirement already satisfied: lxml in /Users/sravanireddypatlolla/Library/Python/3.9/lib/python/site-packages (from labelimg) (5.3.1)\n",
      "Requirement already satisfied: PyQt5-sip<13,>=12.15 in /Users/sravanireddypatlolla/Library/Python/3.9/lib/python/site-packages (from pyqt5->labelimg) (12.17.0)\n",
      "Requirement already satisfied: PyQt5-Qt5<5.16.0,>=5.15.2 in /Users/sravanireddypatlolla/Library/Python/3.9/lib/python/site-packages (from pyqt5->labelimg) (5.15.16)\n",
      "\n",
      "\u001b[1m[\u001b[0m\u001b[34;49mnotice\u001b[0m\u001b[1;39;49m]\u001b[0m\u001b[39;49m A new release of pip is available: \u001b[0m\u001b[31;49m23.3.2\u001b[0m\u001b[39;49m -> \u001b[0m\u001b[32;49m25.0.1\u001b[0m\n",
      "\u001b[1m[\u001b[0m\u001b[34;49mnotice\u001b[0m\u001b[1;39;49m]\u001b[0m\u001b[39;49m To update, run: \u001b[0m\u001b[32;49m/Library/Developer/CommandLineTools/usr/bin/python3 -m pip install --upgrade pip\u001b[0m\n",
      "Note: you may need to restart the kernel to use updated packages.\n"
     ]
    }
   ],
   "source": [
    "# pip install labelimg"
   ]
  },
  {
   "cell_type": "code",
   "execution_count": 4,
   "metadata": {},
   "outputs": [
    {
     "name": "stderr",
     "output_type": "stream",
     "text": [
      "2025-04-05 21:01:36.739 Python[55384:20222268] +[IMKClient subclass]: chose IMKClient_Modern\n",
      "2025-04-05 21:01:36.739 Python[55384:20222268] +[IMKInputSession subclass]: chose IMKInputSession_Modern\n"
     ]
    },
    {
     "data": {
      "text/plain": [
       "CompletedProcess(args=['labelImg', '../milestone2/stratified_sampling/output_images/train/anterior/'], returncode=0)"
      ]
     },
     "execution_count": 4,
     "metadata": {},
     "output_type": "execute_result"
    }
   ],
   "source": [
    "import os\n",
    "import subprocess\n",
    "\n",
    "image_folder = \"../milestone2/stratified_sampling/output_images/train/anterior/\"\n",
    "annotaion_folder = \"../milestone2/stratified_sampling/output_images/label/\"\n",
    "\n",
    "os.makedirs(annotaion_folder, exist_ok=True)\n",
    "subprocess.run([\"labelImg\", image_folder])"
   ]
  },
  {
   "cell_type": "code",
   "execution_count": 27,
   "metadata": {},
   "outputs": [
    {
     "name": "stdout",
     "output_type": "stream",
     "text": [
      "Total train files in anterior folder: 36\n",
      "Total train files in healthy teeth folder: 7\n",
      "Total train files in mixed caries folder: 12\n",
      "Total train files in posterior teeth folder: 30\n",
      "Total test files in anterior folder: 13\n",
      "Total test files in healthy teeth folder: 2\n",
      "Total test files in mixed caries folder: 4\n",
      "Total test files in posterior teeth folder: 10\n",
      "Total train files in all folders: 85\n",
      "Total test files in all folders: 29\n"
     ]
    }
   ],
   "source": [
    "# Set paths\n",
    "train_dir_anterior = '../milestone2/stratified_sampling/output_images/train/anteroir_teeth//'\n",
    "train_dir_healthy_teeth = '../milestone2/stratified_sampling/output_images/train/healthy_teeth/'\n",
    "train_dir_mixed_caries = '../milestone2/stratified_sampling/output_images/train/mixed_caries/'\n",
    "train_dir_posterior_teeth = '../milestone2/stratified_sampling/output_images/train/posterior_teeth/'\n",
    "test_dir_anterior = '../milestone2/stratified_sampling/output_images/test/anteroir_teeth/'\n",
    "test_dir_healthy_teeth = '../milestone2/stratified_sampling/output_images/test/healthy_teeth/'\n",
    "test_dir_mixed_caries = '../milestone2/stratified_sampling/output_images/test/mixed_caries/'\n",
    "test_dir_posterior_teeth = '../milestone2/stratified_sampling/output_images/test/posterior_teeth/'\n",
    "\n",
    "total_train = {\n",
    "    'anterior': len(os.listdir(train_dir_anterior)),\n",
    "    'healthy_teeth': len(os.listdir(train_dir_healthy_teeth)),\n",
    "    'mixed_caries': len(os.listdir(train_dir_mixed_caries)),\n",
    "    'posterior_teeth': len(os.listdir(train_dir_posterior_teeth))\n",
    "}\n",
    "total_test = {\n",
    "    'anterior': len(os.listdir(test_dir_anterior)),\n",
    "    'healthy_teeth': len(os.listdir(test_dir_healthy_teeth)),\n",
    "    'mixed_caries': len(os.listdir(test_dir_mixed_caries)),\n",
    "    'posterior_teeth': len(os.listdir(test_dir_posterior_teeth))\n",
    "}\n",
    "print (f\"Total train files in anterior folder: {total_train['anterior']}\")\n",
    "print (f\"Total train files in healthy teeth folder: {total_train['healthy_teeth']}\")\n",
    "print (f\"Total train files in mixed caries folder: {total_train['mixed_caries']}\")\n",
    "print (f\"Total train files in posterior teeth folder: {total_train['posterior_teeth']}\")\n",
    "print (f\"Total test files in anterior folder: {total_test['anterior']}\")\n",
    "print (f\"Total test files in healthy teeth folder: {total_test['healthy_teeth']}\")\n",
    "print (f\"Total test files in mixed caries folder: {total_test['mixed_caries']}\")\n",
    "print (f\"Total test files in posterior teeth folder: {total_test['posterior_teeth']}\")\n",
    "print (f\"Total train files in all folders: {sum(total_train.values())}\")\n",
    "print (f\"Total test files in all folders: {sum(total_test.values())}\")\n"
   ]
  },
  {
   "cell_type": "code",
   "execution_count": 16,
   "metadata": {},
   "outputs": [
    {
     "name": "stdout",
     "output_type": "stream",
     "text": [
      "train_base_dir created successfully, train_base_dir =  /Users/sravanireddypatlolla/Documents/GitHub/Capstone-Project/milestone2/stratified_sampling/output_images/Train_all/\n",
      "All images have been successfully copied to the 'Train' directory!\n"
     ]
    }
   ],
   "source": [
    "import os\n",
    "import shutil\n",
    "\n",
    "# Gettting all the images from the directories\n",
    "train_dir_anterior = '/Users/sravanireddypatlolla/Documents/GitHub/Capstone-Project/milestone2/stratified_sampling/output_images/train/anteroir_teeth/'\n",
    "train_dir_healthy_teeth = '/Users/sravanireddypatlolla/Documents/GitHub/Capstone-Project/milestone2/stratified_sampling/output_images/train/healthy_teeth/'\n",
    "train_dir_mixed_caries = '/Users/sravanireddypatlolla/Documents/GitHub/Capstone-Project/milestone2/stratified_sampling/output_images/train/mixed_caries/'\n",
    "train_dir_posterior_teeth = '/Users/sravanireddypatlolla/Documents/GitHub/Capstone-Project/milestone2/stratified_sampling/output_images/train/posterior_teeth/'\n",
    "\n",
    "# Putting all the files in one folder to train the model\n",
    "train_base_dir = '/Users/sravanireddypatlolla/Documents/GitHub/Capstone-Project/milestone2/stratified_sampling/output_images/Train_all/'\n",
    "\n",
    "# Creating a new train folder if it doesn't exist\n",
    "os.makedirs(train_base_dir, exist_ok=True)\n",
    "print(\"train_base_dir created successfully, train_base_dir = \", train_base_dir)\n",
    "\n",
    "# I am taking all the files from the above directories and put them in the train folder\n",
    "def copy_files_to_train(src_dir):\n",
    "    # Get all files from the source directory\n",
    "    files = os.listdir(src_dir)\n",
    "    for file in files:\n",
    "        src_file = os.path.join(src_dir, file)\n",
    "        if os.path.isfile(src_file):  # Check if it's a file\n",
    "            dest_file = os.path.join(train_base_dir, file)\n",
    "            shutil.copy(src_file, dest_file)  # Copy the file\n",
    "\n",
    "# Copy images from each directory into the train folder\n",
    "copy_files_to_train(train_dir_anterior)\n",
    "copy_files_to_train(train_dir_healthy_teeth)\n",
    "copy_files_to_train(train_dir_mixed_caries)\n",
    "copy_files_to_train(train_dir_posterior_teeth)\n",
    "\n",
    "print(\"All images have been successfully copied to the 'Train' directory!\")\n"
   ]
  },
  {
   "cell_type": "code",
   "execution_count": 18,
   "metadata": {},
   "outputs": [
    {
     "name": "stdout",
     "output_type": "stream",
     "text": [
      "train_base_dir created successfully, train_base_dir =  /Users/sravanireddypatlolla/Documents/GitHub/Capstone-Project/milestone2/stratified_sampling/output_images/Test_all/\n",
      "All images have been successfully copied to the 'Test' directory!\n"
     ]
    }
   ],
   "source": [
    "import os\n",
    "import shutil\n",
    "\n",
    "# Gettting all the images from the directories\n",
    "test_dir_anterior = '/Users/sravanireddypatlolla/Documents/GitHub/Capstone-Project/milestone2/stratified_sampling/output_images/test/anteroir_teeth/'\n",
    "test_dir_healthy_teeth = '/Users/sravanireddypatlolla/Documents/GitHub/Capstone-Project/milestone2/stratified_sampling/output_images/test/healthy_teeth/'\n",
    "test_dir_mixed_caries = '/Users/sravanireddypatlolla/Documents/GitHub/Capstone-Project/milestone2/stratified_sampling/output_images/test/mixed_caries/'\n",
    "test_dir_posterior_teeth = '/Users/sravanireddypatlolla/Documents/GitHub/Capstone-Project/milestone2/stratified_sampling/output_images/test/posterior_teeth/'\n",
    "\n",
    "# Putting all the files in one folder to test the model\n",
    "test_base_dir = '/Users/sravanireddypatlolla/Documents/GitHub/Capstone-Project/milestone2/stratified_sampling/output_images/Test_all/'\n",
    "\n",
    "# Creating a new test folder if it doesn't exist\n",
    "os.makedirs(test_base_dir, exist_ok=True)\n",
    "print(\"train_base_dir created successfully, train_base_dir = \", test_base_dir)\n",
    "\n",
    "# I am taking all the files from the above directories and put them in the train folder\n",
    "def copy_files_to_train(src_dir):\n",
    "    # Get all files from the source directory\n",
    "    files = os.listdir(src_dir)\n",
    "    for file in files:\n",
    "        src_file = os.path.join(src_dir, file)\n",
    "        if os.path.isfile(src_file):  # Check if it's a file\n",
    "            dest_file = os.path.join(test_base_dir, file)\n",
    "            shutil.copy(src_file, dest_file)  # Copy the file\n",
    "\n",
    "# Copy images from each directory into the train folder\n",
    "copy_files_to_train(test_dir_anterior)\n",
    "copy_files_to_train(test_dir_healthy_teeth)\n",
    "copy_files_to_train(test_dir_mixed_caries)\n",
    "copy_files_to_train(test_dir_posterior_teeth)\n",
    "\n",
    "print(\"All images have been successfully copied to the 'Test' directory!\")\n"
   ]
  },
  {
   "cell_type": "code",
   "execution_count": null,
   "metadata": {},
   "outputs": [],
   "source": []
  }
 ],
 "metadata": {
  "kernelspec": {
   "display_name": "Python 3",
   "language": "python",
   "name": "python3"
  },
  "language_info": {
   "codemirror_mode": {
    "name": "ipython",
    "version": 3
   },
   "file_extension": ".py",
   "mimetype": "text/x-python",
   "name": "python",
   "nbconvert_exporter": "python",
   "pygments_lexer": "ipython3",
   "version": "3.9.6"
  }
 },
 "nbformat": 4,
 "nbformat_minor": 2
}
