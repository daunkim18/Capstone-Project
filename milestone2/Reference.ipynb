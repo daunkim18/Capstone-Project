{
 "cells": [
  {
   "cell_type": "markdown",
   "metadata": {},
   "source": [
    "1. ## OS mdule documentation\n",
    "https://docs.python.org/3/library/os.html\n",
    "\n",
    "2. ## Using Python's shutil module to clean existing folders, copy images into train/val/test splits, and organize them into a structure suitable for machine learning workflows.\n",
    "https://dev.to/jankaritech/pythons-shutil-module-for-automated-testing-413n\n",
    "3. ## https://medium.com/@nimritakoul01/image-processing-using-opencv-python-9c9b83f4b1ca ",
    "4. ## https://www.w3schools.com/python/numpy/numpy_getting_started.asp "
   ]
  }
 ],
 "metadata": {
  "language_info": {
   "name": "python"
  }
 },
 "nbformat": 4,
 "nbformat_minor": 2
}
