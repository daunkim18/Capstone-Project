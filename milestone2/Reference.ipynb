{
 "cells": [
  {
   "cell_type": "markdown",
   "metadata": {},
   "source": [
    "1. ## OS mdule documentation\n",
    "https://docs.python.org/3/library/os.html\n",
    "\n",
    "2. ## Using Python's shutil module for automated testing tasks\n",
    "https://dev.to/jankaritech/pythons-shutil-module-for-automated-testing-413n\n",
    " "
   ]
  }
 ],
 "metadata": {
  "language_info": {
   "name": "python"
  }
 },
 "nbformat": 4,
 "nbformat_minor": 2
}
